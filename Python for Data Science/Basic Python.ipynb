{
 "cells": [
  {
   "cell_type": "markdown",
   "metadata": {},
   "source": [
    "# Python cơ bản"
   ]
  },
  {
   "cell_type": "markdown",
   "metadata": {},
   "source": [
    "## Variables\n",
    "\n",
    "Biến là containers để lưu trữ dữ liệu.\n",
    "\n",
    "Không như các biến ở ngôn ngữ lập trình khác, Python không cần khai báo biến (Ở C/C++ là int, float,.. ở Javascript là var).\n",
    "\n",
    "Biến ở Python được tạo khi bạn gán cho nó một giá trị.\n"
   ]
  },
  {
   "cell_type": "code",
   "execution_count": 2,
   "metadata": {},
   "outputs": [
    {
     "name": "stdout",
     "output_type": "stream",
     "text": [
      "4\n",
      "ITPTIT mailaanhem\n"
     ]
    }
   ],
   "source": [
    "x = 4\n",
    "y = \"ITPTIT mailaanhem\"\n",
    "print(x)\n",
    "print(y)"
   ]
  },
  {
   "cell_type": "markdown",
   "metadata": {},
   "source": [
    "Biến của Python có kiểu dữ liệu linh hoạt"
   ]
  },
  {
   "cell_type": "code",
   "execution_count": 4,
   "metadata": {},
   "outputs": [
    {
     "name": "stdout",
     "output_type": "stream",
     "text": [
      "4\n",
      "Tran Quang Hiep\n"
     ]
    }
   ],
   "source": [
    "x = 4\n",
    "print(x)\n",
    "x = \"Tran Quang Hiep\"\n",
    "print(x)"
   ]
  },
  {
   "cell_type": "code",
   "execution_count": 7,
   "metadata": {},
   "outputs": [
    {
     "name": "stdout",
     "output_type": "stream",
     "text": [
      "Tran Quang Hiep\n"
     ]
    }
   ],
   "source": [
    "x,y,z = \"Tran\", \"Quang\", \"Hiep\"\n",
    "print(x+\" \" +y+\" \"+z)"
   ]
  },
  {
   "cell_type": "markdown",
   "metadata": {},
   "source": [
    "## Kiểu dữ liệu\n",
    "\n",
    "Các biến có thể lưu trữ dữ liệu của các loại khác nhau và các loại khác nhau có thể làm những việc khác nhau.\n",
    "\n",
    "* Text Type:\tstr\n",
    "* Numeric Types:\tint, float, complex\n",
    "* Sequence Types:\tlist, tuple, range\n",
    "* Mapping Type:\tdict\n",
    "* Set Types:\tset, frozenset\n",
    "* Boolean Type:\tbool\n",
    "* Binary Types:\tbytes, bytearray, memoryview"
   ]
  },
  {
   "cell_type": "code",
   "execution_count": 8,
   "metadata": {},
   "outputs": [
    {
     "name": "stdout",
     "output_type": "stream",
     "text": [
      "<class 'int'>\n"
     ]
    }
   ],
   "source": [
    "x = 5\n",
    "print(type(x)) #xem kiểu dữ liệu của biến x"
   ]
  },
  {
   "cell_type": "code",
   "execution_count": 11,
   "metadata": {},
   "outputs": [
    {
     "name": "stdout",
     "output_type": "stream",
     "text": [
      "<class 'list'>\n",
      "<class 'tuple'>\n",
      "<class 'dict'>\n",
      "<class 'set'>\n"
     ]
    }
   ],
   "source": [
    "x = [\"Tran\",\"Hiep\"]\n",
    "print(type(x))\n",
    "x = (\"Tran\", \"Hiep\")\n",
    "print(type(x))\n",
    "x = {\"Hiep\": 20, \"ITPTIT\": 6}\n",
    "print(type(x))\n",
    "x = {\"5\", 5, \"Hiep\"}\n",
    "print(type(x))"
   ]
  },
  {
   "cell_type": "code",
   "execution_count": 19,
   "metadata": {},
   "outputs": [
    {
     "name": "stdout",
     "output_type": "stream",
     "text": [
      "<class 'float'>\n",
      "<class 'int'>\n"
     ]
    }
   ],
   "source": [
    "x = 1.5\n",
    "print(type(x))\n",
    "x = int(x)\n",
    "print(type(x))"
   ]
  },
  {
   "cell_type": "markdown",
   "metadata": {},
   "source": [
    "## String\n",
    "\n",
    "String là một mảng các kí tự"
   ]
  },
  {
   "cell_type": "code",
   "execution_count": 22,
   "metadata": {},
   "outputs": [
    {
     "name": "stdout",
     "output_type": "stream",
     "text": [
      "H\n"
     ]
    }
   ],
   "source": [
    "a = \"Hiep\"\n",
    "print(a[0])"
   ]
  },
  {
   "cell_type": "markdown",
   "metadata": {},
   "source": [
    "### Slicing"
   ]
  },
  {
   "cell_type": "code",
   "execution_count": 26,
   "metadata": {},
   "outputs": [
    {
     "name": "stdout",
     "output_type": "stream",
     "text": [
      "TQ\n",
      "TH\n"
     ]
    }
   ],
   "source": [
    "a = \"TQH\"\n",
    "print(a[0:2]) # lấy kí từ từ vị trí 0 đến 1\n",
    "print(a[0:3:2]) # Lấy kí từ từ vị trí 0 đến 2 và cách nhau 1 đơn vị"
   ]
  },
  {
   "cell_type": "code",
   "execution_count": 35,
   "metadata": {},
   "outputs": [
    {
     "name": "stdout",
     "output_type": "stream",
     "text": [
      "đẹp trai\n",
      "14\n",
      "Hiệp đẹp trai vl\n"
     ]
    }
   ],
   "source": [
    "a = \"Hiệp đẹp trai \"\n",
    "print(a[-9:-1]) # chỉ số âm tính từ cuối chuỗi sang trái\n",
    "print(len(a)) # Độ dài chuỗi\n",
    "b = \"vl\"\n",
    "print(a+b) # cộng hai xâu"
   ]
  },
  {
   "cell_type": "markdown",
   "metadata": {},
   "source": [
    "### String methods"
   ]
  },
  {
   "cell_type": "code",
   "execution_count": 44,
   "metadata": {},
   "outputs": [
    {
     "name": "stdout",
     "output_type": "stream",
     "text": [
      "IT PTIT\n",
      " it ptit \n",
      " IH PHIH \n",
      "['Linear Regression', 'KNN', 'SVM', 'Logistic Regression']\n"
     ]
    }
   ],
   "source": [
    "a = \" IT PTIT \"\n",
    "print(a.strip()) # Xóa dấu cách đầu và cuối\n",
    "print(a.lower()) # Chuyển thành kí tự viết thường, tương tự như khi chuyển thành viết hoa .upper()\n",
    "print(a.replace(\"T\", \"H\")) # Thay thế toàn bộ kí tự T thành H\n",
    "a = \"Linear Regression,KNN,SVM,Logistic Regression\"\n",
    "print(a.split(\",\")) # Phân tách thành các chuỗi con với dấu phân cách là dấu phẩy"
   ]
  },
  {
   "cell_type": "markdown",
   "metadata": {},
   "source": [
    "### String format"
   ]
  },
  {
   "cell_type": "code",
   "execution_count": 47,
   "metadata": {},
   "outputs": [
    {
     "name": "stdout",
     "output_type": "stream",
     "text": [
      "Linear 18\n"
     ]
    }
   ],
   "source": [
    "a = \"Linear {}\"\n",
    "b = 18\n",
    "print(a.format(b)) # In ra chuỗi kèm số"
   ]
  },
  {
   "cell_type": "markdown",
   "metadata": {},
   "source": [
    "## Boolean\n",
    "\n",
    "Về cơ bản cái này để kiểm tra xem đúng hoặc sai thôi :v"
   ]
  },
  {
   "cell_type": "code",
   "execution_count": 52,
   "metadata": {},
   "outputs": [
    {
     "name": "stdout",
     "output_type": "stream",
     "text": [
      "True\n",
      "False\n",
      "True\n"
     ]
    }
   ],
   "source": [
    "print(5 < 9)\n",
    "print(bool(0)) \n",
    "print(bool(\"Hiệp\")) # về cơ bản nếu tồn tại giá trị khác 0 thì nó sẽ in true"
   ]
  },
  {
   "cell_type": "code",
   "execution_count": 54,
   "metadata": {},
   "outputs": [
    {
     "data": {
      "text/plain": [
       "False"
      ]
     },
     "execution_count": 54,
     "metadata": {},
     "output_type": "execute_result"
    }
   ],
   "source": [
    "# Các trường hợp in false\n",
    "bool(False)\n",
    "bool(None)\n",
    "bool(0)\n",
    "bool(\"\")\n",
    "bool(())\n",
    "bool([])\n",
    "bool({})"
   ]
  },
  {
   "cell_type": "markdown",
   "metadata": {},
   "source": [
    "## Toán tử"
   ]
  },
  {
   "cell_type": "markdown",
   "metadata": {},
   "source": [
    "<a href = \"https://www.tutorialspoint.com/python/python_basic_operators.htm\"> Chi tiết các bạn xem ở đây </a>"
   ]
  },
  {
   "cell_type": "markdown",
   "metadata": {},
   "source": [
    "## Python Collection\n",
    "\n",
    "Có 4 kiểu Collection data trong Python (Mình xin phép không chuyển sang tiếng Việt bởi vì dịch không mô tả được hết ý nghĩa)\n",
    "\n",
    "1. List is a collection which is ordered and changeable. Allows duplicate members. \n",
    "2. Tuple is a collection which is ordered and unchangeable. Allows duplicate members.\n",
    "3. Set is a collection which is unordered and unindexed. No duplicate members.\n",
    "4. Dictionary is a collection which is unordered, changeable and indexed. No duplicate members.\n"
   ]
  },
  {
   "cell_type": "code",
   "execution_count": 70,
   "metadata": {},
   "outputs": [
    {
     "name": "stdout",
     "output_type": "stream",
     "text": [
      "['KNN', 'SVM', 'Neural']\n",
      "KNN\n",
      "['KNN', 'SVM']\n",
      "3\n",
      "['KNN', 'SVM', 'Neural', ['network', 'DNN']]\n",
      "['KNN', 'SVM', 'CNN', 'Neural', ['network', 'DNN']]\n",
      "['KNN', 'SVM', 'CNN', 'Neural', ['network', 'DNN']]\n",
      "['KNN', 'SVM', 'CNN', 'Neural', ['network', 'DNN'], 'KNN', 'SVM', 'CNN', 'Neural', ['network', 'DNN']]\n"
     ]
    }
   ],
   "source": [
    "# List\n",
    "a = [\"KNN\", \"SVM\", \"Neural\"]\n",
    "print(a)\n",
    "print(a[0])\n",
    "print(a[:2])\n",
    "print(len(a))\n",
    "\n",
    "a.append([\"network\", \"DNN\"]) # Thêm một đối tượng mới\n",
    "print(a)\n",
    "\n",
    "a.insert(2, \"CNN\") # Chèn một đối tượng mới với chỉ số định trước \n",
    "print(a)\n",
    "\n",
    "b = a.copy() # Không thể gán list b = a\n",
    "print(b)\n",
    "\n",
    "print(a+b) # Cộng hai list\n",
    "# Còn nhiều thao tác nữa nhưng cơ bản là như này trước đã nhé :D"
   ]
  },
  {
   "cell_type": "code",
   "execution_count": 69,
   "metadata": {},
   "outputs": [
    {
     "name": "stdout",
     "output_type": "stream",
     "text": [
      "('KNN', 'SVM', 'Neural')\n",
      "('KNN', 'SVM', 'Neural', 'Network')\n"
     ]
    }
   ],
   "source": [
    "# Tuple\n",
    "a = (\"KNN\", \"SVM\", \"Neural\")\n",
    "print(a)\n",
    "# Vì các giá trị trong tuple không thể thay đổi nên nếu muốn thay đổi ta phải chuyển tuple sang list\n",
    "x = list(a)\n",
    "x.append(\"Network\")\n",
    "a = tuple(x)\n",
    "print(a)\n",
    "\n",
    "## Ngoài các thao tác thay đổi phần tử trong tuple thì các thao tác còn lại vẫn giống list "
   ]
  },
  {
   "cell_type": "code",
   "execution_count": 79,
   "metadata": {},
   "outputs": [
    {
     "name": "stdout",
     "output_type": "stream",
     "text": [
      "{'Neural', 'CNN', 'SVM', 'KNN'}\n"
     ]
    }
   ],
   "source": [
    "# Set\n",
    "a = {\"KNN\", \"SVM\", \"Neural\"}\n",
    "# Vì set có tính unordered nên mình không thể thao tác với các chỉ số trong set. Ví dụ như bạn không thể in a[0] thử xem nhé :))\n",
    "b = {\"CNN\"}\n",
    "c = a.union(b) # Vì không thể hợp 2 set bằng cách a + b nên ta sẽ dùng .union()\n",
    "print(c)"
   ]
  },
  {
   "cell_type": "markdown",
   "metadata": {},
   "source": [
    "Để ý là mỗi collection ta lại biểu diễn bằng các ngoặc riêng: list [ ], tuple( ), set{ }"
   ]
  },
  {
   "cell_type": "code",
   "execution_count": 87,
   "metadata": {},
   "outputs": [
    {
     "name": "stdout",
     "output_type": "stream",
     "text": [
      "{'Hiep': 18, 'IT': 6}\n",
      "18\n",
      "x = 18\n",
      "2\n"
     ]
    }
   ],
   "source": [
    "# Dictionary\n",
    "dict = {\"Hiep\": 18, \"IT\": 6}\n",
    "print(dict)\n",
    "print(dict[\"Hiep\"]) # Lấy giá trị (value) của \"Hiep\" key\n",
    "x = dict.get(\"Hiep\") # Gán value của \"Hiep\" key vào biến x\n",
    "print(\"x = {}\".format(x))\n",
    "print(len(dict)) # Độ dài dict"
   ]
  },
  {
   "cell_type": "markdown",
   "metadata": {},
   "source": [
    "## Điều kiện\n",
    "\n",
    "Về cơ bản thì syntax condition của Python cũng không khác C lắm"
   ]
  },
  {
   "cell_type": "code",
   "execution_count": 89,
   "metadata": {},
   "outputs": [
    {
     "name": "stdout",
     "output_type": "stream",
     "text": [
      "x,y đúng\n"
     ]
    }
   ],
   "source": [
    "x,y = 6,2\n",
    "if x == 6 and y == 2: # Không có && hay || đâu nhé\n",
    "    print(\"x,y đúng\")\n",
    "elif x == 6:\n",
    "    print(\"x đúng, y sai\")\n",
    "elif y == 2:\n",
    "    print(\"x sai, y đúng\")\n",
    "else:\n",
    "    print(\"sai hết\")"
   ]
  },
  {
   "cell_type": "code",
   "execution_count": 90,
   "metadata": {},
   "outputs": [
    {
     "name": "stdout",
     "output_type": "stream",
     "text": [
      "ngon\n"
     ]
    }
   ],
   "source": [
    "algorithm = [\"SVM\", \"CNN\"]\n",
    "if \"SVM\" in algorithm: # Kiểm tra xem phần tử có trong list không\n",
    "    print(\"ngon\")\n",
    "else:\n",
    "    print(\"Không có\")"
   ]
  },
  {
   "cell_type": "markdown",
   "metadata": {},
   "source": [
    "## Vòng lặp\n",
    "\n"
   ]
  },
  {
   "cell_type": "markdown",
   "metadata": {},
   "source": [
    "### While\n",
    "\n",
    "Cơ bản cũng giống C/C++ :))"
   ]
  },
  {
   "cell_type": "code",
   "execution_count": 96,
   "metadata": {},
   "outputs": [
    {
     "name": "stdout",
     "output_type": "stream",
     "text": [
      "Hiệp đẹp trai\n",
      "Hiệp đẹp trai\n",
      "Hiệp đẹp trai\n",
      "Hiệp đẹp trai vl\n",
      "Hiệp đẹp trai vl\n"
     ]
    }
   ],
   "source": [
    "i = 0\n",
    "x = \"Hiệp đẹp trai\"\n",
    "while i < 5:\n",
    "    if i > 2:\n",
    "        print(x + \" vl\")\n",
    "    else:\n",
    "        print(x)\n",
    "    i += 1 # Không được i++ nhé\n",
    "\n",
    "# Cũng có các thành phần break, continue chức năng như C/C++"
   ]
  },
  {
   "cell_type": "markdown",
   "metadata": {},
   "source": [
    "## For\n",
    "\n",
    "Cơ bản cũng giống C/C++ :))"
   ]
  },
  {
   "cell_type": "code",
   "execution_count": 97,
   "metadata": {},
   "outputs": [
    {
     "name": "stdout",
     "output_type": "stream",
     "text": [
      "red apple\n",
      "red banana\n",
      "red cherry\n",
      "big apple\n",
      "big banana\n",
      "big cherry\n",
      "tasty apple\n",
      "tasty banana\n",
      "tasty cherry\n"
     ]
    }
   ],
   "source": [
    "adj = [\"red\", \"big\", \"tasty\"]\n",
    "fruits = [\"apple\", \"banana\", \"cherry\"]\n",
    "\n",
    "for x in adj:\n",
    "  for y in fruits:\n",
    "    print(x, y)"
   ]
  },
  {
   "cell_type": "code",
   "execution_count": 101,
   "metadata": {},
   "outputs": [
    {
     "name": "stdout",
     "output_type": "stream",
     "text": [
      "2\n",
      "5\n"
     ]
    }
   ],
   "source": [
    "for x in range(2, 6, 3):\n",
    "  print(x)"
   ]
  },
  {
   "cell_type": "code",
   "execution_count": 103,
   "metadata": {},
   "outputs": [
    {
     "name": "stdout",
     "output_type": "stream",
     "text": [
      "apple\n",
      "cherry\n"
     ]
    }
   ],
   "source": [
    "fruits = [\"apple\", \"banana\", \"cherry\"]\n",
    "for x in fruits:\n",
    "  if x == \"banana\":\n",
    "    continue\n",
    "  print(x)"
   ]
  },
  {
   "cell_type": "markdown",
   "metadata": {},
   "source": [
    "## Function"
   ]
  },
  {
   "cell_type": "code",
   "execution_count": 107,
   "metadata": {},
   "outputs": [
    {
     "name": "stdout",
     "output_type": "stream",
     "text": [
      "5\n",
      "9\n"
     ]
    }
   ],
   "source": [
    "x = 5\n",
    "def change_var_x(y):\n",
    "    y = 9\n",
    "    return y # Cuối function phải return cg đó nhé \n",
    "print(x)\n",
    "print(change_var_x(x))"
   ]
  },
  {
   "cell_type": "markdown",
   "metadata": {},
   "source": [
    "## Lambda\n",
    "\n",
    "Như một function nhưng tinh gọn hơn :D\n",
    "\n",
    "#### Syntax:\n",
    "    lambda arguments : expression\n"
   ]
  },
  {
   "cell_type": "code",
   "execution_count": 111,
   "metadata": {},
   "outputs": [
    {
     "name": "stdout",
     "output_type": "stream",
     "text": [
      "ITPTIT mãi là anh em\n"
     ]
    }
   ],
   "source": [
    "x = lambda a : a + \" mãi là anh em\"\n",
    "print(x(\"ITPTIT\"))"
   ]
  },
  {
   "cell_type": "markdown",
   "metadata": {},
   "source": [
    "## Python Classes and Objects\n",
    "\n",
    "Python là một ngôn ngữ lập trình hướng đối tượng (OOP).\n",
    "\n",
    "Hầu như tất cả những gì trong Python đều là Object với Properties và Method của nó.\n"
   ]
  },
  {
   "cell_type": "code",
   "execution_count": 115,
   "metadata": {},
   "outputs": [
    {
     "name": "stdout",
     "output_type": "stream",
     "text": [
      "['Linear Regression']\n"
     ]
    }
   ],
   "source": [
    "# Tạo một Class\n",
    "\n",
    "class ML: # class viết thường không là sẽ lỗi đó\n",
    "    Supervise = [\"Linear Regression\"]\n",
    "    Unsupervise = [\"KNN\", \"Clustering\"]\n",
    "\n",
    "p1 = ML() # Tạo một object p1\n",
    "print(p1.Supervise)"
   ]
  },
  {
   "cell_type": "markdown",
   "metadata": {},
   "source": [
    " Tìm hiểu __init__() Function\n",
    "\n",
    "* Những class trên để ví dụ và nó không có ứng dụng nhiều gì lắm :D\n",
    "* Để hiểu ý nghĩa của class ta phải hiểu hàm __init__() tích hợp\n",
    "* Tất cả các class đều có hàm __init__() và nó luôn được thực thi khi class bắt đầu\n",
    "* Sử dụng hàm __init __() để gán giá trị cho các thuộc tính đối tượng hoặc các hoạt động khác cần thiết khi đối tượng được tạo\n"
   ]
  },
  {
   "cell_type": "code",
   "execution_count": 125,
   "metadata": {},
   "outputs": [
    {
     "name": "stdout",
     "output_type": "stream",
     "text": [
      "Hello my name is John\n"
     ]
    }
   ],
   "source": [
    "class Person:\n",
    "  def __init__(obj, name, age): # obj là self parameter nó được đặt đầu tiên\n",
    "    obj.name = name\n",
    "    obj.age = age\n",
    "\n",
    "  def myfunc(abc):\n",
    "    print(\"Hello my name is \" + abc.name)\n",
    "\n",
    "p1 = Person(\"John\", 36)\n",
    "p1.myfunc()"
   ]
  },
  {
   "cell_type": "markdown",
   "metadata": {},
   "source": [
    "## User Input\n",
    "\n"
   ]
  },
  {
   "cell_type": "code",
   "execution_count": 127,
   "metadata": {},
   "outputs": [
    {
     "name": "stdout",
     "output_type": "stream",
     "text": [
      "Nhập x: 15\n",
      "x là 15\n"
     ]
    }
   ],
   "source": [
    "# Ở python 3.6 ta nhập input như sau\n",
    "\n",
    "x = input(\"Nhập x: \")\n",
    "print(\"x là {}\".format(x))"
   ]
  },
  {
   "cell_type": "code",
   "execution_count": 1,
   "metadata": {},
   "outputs": [
    {
     "name": "stdout",
     "output_type": "stream",
     "text": [
      "1\n",
      "2\n",
      "2\n",
      "2\n"
     ]
    }
   ],
   "source": [
    "# Nhập bộ test t, mỗi test gồm 3 số a,b,c\n",
    "\n",
    "t = int(input())\n",
    "\n",
    "for i in range(t):\n",
    "    a = int(input())\n",
    "    b = int(input())\n",
    "    c = int(input())"
   ]
  }
 ],
 "metadata": {
  "kernelspec": {
   "display_name": "Python 3",
   "language": "python",
   "name": "python3"
  },
  "language_info": {
   "codemirror_mode": {
    "name": "ipython",
    "version": 3
   },
   "file_extension": ".py",
   "mimetype": "text/x-python",
   "name": "python",
   "nbconvert_exporter": "python",
   "pygments_lexer": "ipython3",
   "version": "3.7.3"
  }
 },
 "nbformat": 4,
 "nbformat_minor": 2
}
